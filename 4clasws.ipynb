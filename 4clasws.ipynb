{
 "cells": [
  {
   "cell_type": "code",
   "execution_count": 1,
   "metadata": {},
   "outputs": [
    {
     "name": "stderr",
     "output_type": "stream",
     "text": [
      "Using TensorFlow backend.\n"
     ]
    }
   ],
   "source": [
    "from __future__ import print_function\n",
    "import keras\n",
    "import os\n",
    "from keras.models import Sequential\n",
    "from keras.layers import Dense, Conv2D, MaxPooling2D, Dropout, Flatten, Input,UpSampling2D\n",
    "#from keras.preprocessing.image import ImageDataGenerator\n",
    "from keras.utils import to_categorical\n",
    "from keras.models import Model\n",
    "from keras.optimizers import RMSprop\n",
    "from sklearn.model_selection import train_test_split\n",
    "from keras import optimizers\n",
    "from keras.layers import merge\n",
    "#keras.layers.Concatenate\n",
    "#from keras.layers import Concatenate\n",
    "from keras.layers import Reshape\n",
    "import numpy as np\n",
    "import matplotlib.pyplot as plt"
   ]
  },
  {
   "cell_type": "code",
   "execution_count": 27,
   "metadata": {},
   "outputs": [],
   "source": [
    "data_path4 = r\"C:\\Users\\laksh\\Desktop\\internship\\incremental codes\\incremental codes\\TRAIN\""
   ]
  },
  {
   "cell_type": "code",
   "execution_count": 28,
   "metadata": {},
   "outputs": [
    {
     "ename": "FileNotFoundError",
     "evalue": "[Errno 2] No such file or directory: 'C:\\\\Users\\\\laksh\\\\Desktop\\\\internship\\\\incremental codes\\\\incremental codes\\\\TRAINcat.1.jpg'",
     "output_type": "error",
     "traceback": [
      "\u001b[1;31m---------------------------------------------------------------------------\u001b[0m",
      "\u001b[1;31mFileNotFoundError\u001b[0m                         Traceback (most recent call last)",
      "\u001b[1;32m<ipython-input-28-d32b8abb9824>\u001b[0m in \u001b[0;36m<module>\u001b[1;34m\u001b[0m\n\u001b[0;32m      7\u001b[0m \u001b[0md4\u001b[0m\u001b[1;33m=\u001b[0m\u001b[1;33m[\u001b[0m\u001b[1;33m]\u001b[0m\u001b[1;33m\u001b[0m\u001b[1;33m\u001b[0m\u001b[0m\n\u001b[0;32m      8\u001b[0m \u001b[1;32mfor\u001b[0m \u001b[0mimg_name\u001b[0m \u001b[1;32min\u001b[0m \u001b[0mfilenames\u001b[0m\u001b[1;33m:\u001b[0m\u001b[1;33m\u001b[0m\u001b[1;33m\u001b[0m\u001b[0m\n\u001b[1;32m----> 9\u001b[1;33m     \u001b[0mimg\u001b[0m \u001b[1;33m=\u001b[0m \u001b[0mplt\u001b[0m\u001b[1;33m.\u001b[0m\u001b[0mimread\u001b[0m\u001b[1;33m(\u001b[0m\u001b[0mdata_path4\u001b[0m \u001b[1;33m+\u001b[0m \u001b[0mimg_name\u001b[0m\u001b[1;33m)\u001b[0m\u001b[1;33m\u001b[0m\u001b[1;33m\u001b[0m\u001b[0m\n\u001b[0m\u001b[0;32m     10\u001b[0m     \u001b[0mimg\u001b[0m  \u001b[1;33m=\u001b[0m \u001b[0mnp\u001b[0m\u001b[1;33m.\u001b[0m\u001b[0mresize\u001b[0m\u001b[1;33m(\u001b[0m\u001b[0mimg\u001b[0m\u001b[1;33m,\u001b[0m \u001b[1;33m(\u001b[0m\u001b[1;36m256\u001b[0m\u001b[1;33m,\u001b[0m \u001b[1;36m256\u001b[0m\u001b[1;33m)\u001b[0m\u001b[1;33m)\u001b[0m\u001b[1;33m\u001b[0m\u001b[1;33m\u001b[0m\u001b[0m\n\u001b[0;32m     11\u001b[0m     \u001b[1;32mif\u001b[0m \u001b[0mp4\u001b[0m\u001b[1;33m==\u001b[0m\u001b[1;36m0\u001b[0m\u001b[1;33m:\u001b[0m\u001b[1;33m\u001b[0m\u001b[1;33m\u001b[0m\u001b[0m\n",
      "\u001b[1;32m~\\Documents\\my anaconda files\\lib\\site-packages\\matplotlib\\pyplot.py\u001b[0m in \u001b[0;36mimread\u001b[1;34m(fname, format)\u001b[0m\n\u001b[0;32m   2133\u001b[0m \u001b[1;33m@\u001b[0m\u001b[0mdocstring\u001b[0m\u001b[1;33m.\u001b[0m\u001b[0mcopy\u001b[0m\u001b[1;33m(\u001b[0m\u001b[0mmatplotlib\u001b[0m\u001b[1;33m.\u001b[0m\u001b[0mimage\u001b[0m\u001b[1;33m.\u001b[0m\u001b[0mimread\u001b[0m\u001b[1;33m)\u001b[0m\u001b[1;33m\u001b[0m\u001b[1;33m\u001b[0m\u001b[0m\n\u001b[0;32m   2134\u001b[0m \u001b[1;32mdef\u001b[0m \u001b[0mimread\u001b[0m\u001b[1;33m(\u001b[0m\u001b[0mfname\u001b[0m\u001b[1;33m,\u001b[0m \u001b[0mformat\u001b[0m\u001b[1;33m=\u001b[0m\u001b[1;32mNone\u001b[0m\u001b[1;33m)\u001b[0m\u001b[1;33m:\u001b[0m\u001b[1;33m\u001b[0m\u001b[1;33m\u001b[0m\u001b[0m\n\u001b[1;32m-> 2135\u001b[1;33m     \u001b[1;32mreturn\u001b[0m \u001b[0mmatplotlib\u001b[0m\u001b[1;33m.\u001b[0m\u001b[0mimage\u001b[0m\u001b[1;33m.\u001b[0m\u001b[0mimread\u001b[0m\u001b[1;33m(\u001b[0m\u001b[0mfname\u001b[0m\u001b[1;33m,\u001b[0m \u001b[0mformat\u001b[0m\u001b[1;33m)\u001b[0m\u001b[1;33m\u001b[0m\u001b[1;33m\u001b[0m\u001b[0m\n\u001b[0m\u001b[0;32m   2136\u001b[0m \u001b[1;33m\u001b[0m\u001b[0m\n\u001b[0;32m   2137\u001b[0m \u001b[1;33m\u001b[0m\u001b[0m\n",
      "\u001b[1;32m~\\Documents\\my anaconda files\\lib\\site-packages\\matplotlib\\image.py\u001b[0m in \u001b[0;36mimread\u001b[1;34m(fname, format)\u001b[0m\n\u001b[0;32m   1415\u001b[0m                              \u001b[1;34m'with Pillow installed matplotlib can handle '\u001b[0m\u001b[1;33m\u001b[0m\u001b[1;33m\u001b[0m\u001b[0m\n\u001b[0;32m   1416\u001b[0m                              'more images' % list(handlers))\n\u001b[1;32m-> 1417\u001b[1;33m         \u001b[1;32mwith\u001b[0m \u001b[0mImage\u001b[0m\u001b[1;33m.\u001b[0m\u001b[0mopen\u001b[0m\u001b[1;33m(\u001b[0m\u001b[0mfname\u001b[0m\u001b[1;33m)\u001b[0m \u001b[1;32mas\u001b[0m \u001b[0mimage\u001b[0m\u001b[1;33m:\u001b[0m\u001b[1;33m\u001b[0m\u001b[1;33m\u001b[0m\u001b[0m\n\u001b[0m\u001b[0;32m   1418\u001b[0m             \u001b[1;32mreturn\u001b[0m \u001b[0mpil_to_array\u001b[0m\u001b[1;33m(\u001b[0m\u001b[0mimage\u001b[0m\u001b[1;33m)\u001b[0m\u001b[1;33m\u001b[0m\u001b[1;33m\u001b[0m\u001b[0m\n\u001b[0;32m   1419\u001b[0m \u001b[1;33m\u001b[0m\u001b[0m\n",
      "\u001b[1;32m~\\Documents\\my anaconda files\\lib\\site-packages\\PIL\\Image.py\u001b[0m in \u001b[0;36mopen\u001b[1;34m(fp, mode)\u001b[0m\n\u001b[0;32m   2764\u001b[0m \u001b[1;33m\u001b[0m\u001b[0m\n\u001b[0;32m   2765\u001b[0m     \u001b[1;32mif\u001b[0m \u001b[0mfilename\u001b[0m\u001b[1;33m:\u001b[0m\u001b[1;33m\u001b[0m\u001b[1;33m\u001b[0m\u001b[0m\n\u001b[1;32m-> 2766\u001b[1;33m         \u001b[0mfp\u001b[0m \u001b[1;33m=\u001b[0m \u001b[0mbuiltins\u001b[0m\u001b[1;33m.\u001b[0m\u001b[0mopen\u001b[0m\u001b[1;33m(\u001b[0m\u001b[0mfilename\u001b[0m\u001b[1;33m,\u001b[0m \u001b[1;34m\"rb\"\u001b[0m\u001b[1;33m)\u001b[0m\u001b[1;33m\u001b[0m\u001b[1;33m\u001b[0m\u001b[0m\n\u001b[0m\u001b[0;32m   2767\u001b[0m         \u001b[0mexclusive_fp\u001b[0m \u001b[1;33m=\u001b[0m \u001b[1;32mTrue\u001b[0m\u001b[1;33m\u001b[0m\u001b[1;33m\u001b[0m\u001b[0m\n\u001b[0;32m   2768\u001b[0m \u001b[1;33m\u001b[0m\u001b[0m\n",
      "\u001b[1;31mFileNotFoundError\u001b[0m: [Errno 2] No such file or directory: 'C:\\\\Users\\\\laksh\\\\Desktop\\\\internship\\\\incremental codes\\\\incremental codes\\\\TRAINcat.1.jpg'"
     ]
    }
   ],
   "source": [
    "import numpy as np\n",
    "import os\n",
    "import matplotlib.pyplot as plt\n",
    "imgs4 = np.empty((256, 256), int)\n",
    "filenames = sorted(os.listdir(data_path4))\n",
    "p4=0\n",
    "d4=[]\n",
    "for img_name in filenames:\n",
    "    img = plt.imread(data_path4 + img_name)\n",
    "    img  = np.resize(img, (256, 256))\n",
    "    if p4==0:\n",
    "      imgs4=(img)\n",
    "      p4=1\n",
    "    else:\n",
    "      imgs4 = np.append(imgs4, img, axis=0)\n",
    "    res = img_name[:3]\n",
    "    d4.append(res)\n",
    "print(d4)\n",
    "    \n",
    "print(imgs4.shape)\n",
    "        \n",
    "img_data = np.array(imgs4)\n",
    "img_data = img_data.astype('float32')\n",
    "img_data = img_data/255\n",
    "img_data.shape"
   ]
  },
  {
   "cell_type": "code",
   "execution_count": 4,
   "metadata": {},
   "outputs": [
    {
     "name": "stdout",
     "output_type": "stream",
     "text": [
      "(321, 256, 256)\n",
      "(159, 256, 256)\n"
     ]
    }
   ],
   "source": [
    "imgs4 = np.reshape(imgs4, [ 480, 256, 256])\n",
    "train_images, test_images = train_test_split(imgs4,test_size=0.33, random_state=42)\n",
    "nRows,nCols = train_images.shape[1:]\n",
    "nDims = nRows\n",
    "train_data = train_images.reshape(train_images.shape[0], nRows, nCols, 1)\n",
    "test_data = test_images.reshape(test_images.shape[0], nRows, nCols, 1)\n",
    "input_shape = (nRows, nCols, 1)\n",
    "train_data = train_data.astype('float32')\n",
    "test_data = test_data.astype('float32')\n",
    "train_data /= 255\n",
    "test_data /= 255\n",
    "print(train_images.shape)\n",
    "print(test_images.shape)\n"
   ]
  },
  {
   "cell_type": "code",
   "execution_count": 5,
   "metadata": {},
   "outputs": [
    {
     "name": "stdout",
     "output_type": "stream",
     "text": [
      "Training data shape :  (321, 256, 256) 321\n",
      "Testing data shape :  (159, 256, 256) 159\n",
      "Total number of outputs :  8\n",
      "Output classes :  ['cat' 'dog' 'e03' 'e13' 'e83' 'ea3' 'hor' '0']\n"
     ]
    }
   ],
   "source": [
    "import numpy as np\n",
    "imgs = np.reshape(imgs4, [ 480, 256, 256])\n",
    "train_images, test_images, train_labels, test_labels = train_test_split(imgs4, d4, test_size=0.33, random_state=42)\n",
    "print('Training data shape : ', train_images.shape, len(train_labels))\n",
    "print('Testing data shape : ', test_images.shape, len(test_labels))\n",
    "classes = np.unique(train_labels)\n",
    "classes=np.append(classes,0)\n",
    "nClasses = len(classes)\n",
    "\n",
    "print('Total number of outputs : ', nClasses)\n",
    "print('Output classes : ', classes)"
   ]
  },
  {
   "cell_type": "code",
   "execution_count": 6,
   "metadata": {},
   "outputs": [
    {
     "name": "stdout",
     "output_type": "stream",
     "text": [
      "(256, 256)\n"
     ]
    },
    {
     "data": {
      "image/png": "[encoded data removed]",
      "text/plain": [
       "<Figure size 288x144 with 2 Axes>"
      ]
     },
     "metadata": {
      "needs_background": "light"
     },
     "output_type": "display_data"
    }
   ],
   "source": [
    "plt.figure(figsize=[4,2])\n",
    "plt.subplot(121)\n",
    "plt.imshow(train_images[0,:,:], cmap='gray')\n",
    "plt.title(\"Ground Truth : {}\".format(train_labels[0]))\n",
    "plt.subplot(122)\n",
    "plt.imshow(test_images[0,:,:], cmap='gray')\n",
    "plt.title(\"Ground Truth : {}\".format(test_labels[0]))\n",
    "print(train_images.shape[1:])"
   ]
  },
  {
   "cell_type": "code",
   "execution_count": 7,
   "metadata": {},
   "outputs": [
    {
     "data": {
      "text/plain": [
       "['cat',\n",
       " 'cat',\n",
       " 'e83',\n",
       " 'hor',\n",
       " 'dog',\n",
       " 'ea3',\n",
       " 'hor',\n",
       " 'e83',\n",
       " 'e83',\n",
       " 'dog',\n",
       " 'hor',\n",
       " 'dog',\n",
       " 'ea3',\n",
       " 'cat',\n",
       " 'dog',\n",
       " 'dog',\n",
       " 'hor',\n",
       " 'dog',\n",
       " 'dog',\n",
       " 'cat',\n",
       " 'dog',\n",
       " 'dog',\n",
       " 'e13',\n",
       " 'dog',\n",
       " 'hor',\n",
       " 'hor',\n",
       " 'cat',\n",
       " 'hor',\n",
       " 'dog',\n",
       " 'ea3',\n",
       " 'dog',\n",
       " 'cat',\n",
       " 'e83',\n",
       " 'hor',\n",
       " 'dog',\n",
       " 'cat',\n",
       " 'e83',\n",
       " 'hor',\n",
       " 'hor',\n",
       " 'ea3',\n",
       " 'e13',\n",
       " 'ea3',\n",
       " 'hor',\n",
       " 'hor',\n",
       " 'hor',\n",
       " 'cat',\n",
       " 'dog',\n",
       " 'dog',\n",
       " 'ea3',\n",
       " 'dog',\n",
       " 'e83',\n",
       " 'e83',\n",
       " 'cat',\n",
       " 'cat',\n",
       " 'dog',\n",
       " 'hor',\n",
       " 'cat',\n",
       " 'ea3',\n",
       " 'ea3',\n",
       " 'dog',\n",
       " 'dog',\n",
       " 'dog',\n",
       " 'hor',\n",
       " 'dog',\n",
       " 'e83',\n",
       " 'cat',\n",
       " 'hor',\n",
       " 'cat',\n",
       " 'cat',\n",
       " 'cat',\n",
       " 'hor',\n",
       " 'dog',\n",
       " 'hor',\n",
       " 'e83',\n",
       " 'dog',\n",
       " 'e83',\n",
       " 'e83',\n",
       " 'hor',\n",
       " 'dog',\n",
       " 'cat',\n",
       " 'dog',\n",
       " 'dog',\n",
       " 'e13',\n",
       " 'dog',\n",
       " 'cat',\n",
       " 'cat',\n",
       " 'hor',\n",
       " 'cat',\n",
       " 'hor',\n",
       " 'dog',\n",
       " 'ea3',\n",
       " 'cat',\n",
       " 'dog',\n",
       " 'dog',\n",
       " 'hor',\n",
       " 'hor',\n",
       " 'e83',\n",
       " 'cat',\n",
       " 'hor',\n",
       " 'dog',\n",
       " 'dog',\n",
       " 'dog',\n",
       " 'e13',\n",
       " 'e83',\n",
       " 'e83',\n",
       " 'ea3',\n",
       " 'e83',\n",
       " 'hor',\n",
       " 'hor',\n",
       " 'dog',\n",
       " 'e83',\n",
       " 'dog',\n",
       " 'hor',\n",
       " 'dog',\n",
       " 'dog',\n",
       " 'hor',\n",
       " 'e83',\n",
       " 'e83',\n",
       " 'hor',\n",
       " 'e83',\n",
       " 'ea3',\n",
       " 'hor',\n",
       " 'ea3',\n",
       " 'hor',\n",
       " 'cat',\n",
       " 'dog',\n",
       " 'e83',\n",
       " 'ea3',\n",
       " 'e83',\n",
       " 'hor',\n",
       " 'ea3',\n",
       " 'dog',\n",
       " 'hor',\n",
       " 'dog',\n",
       " 'dog',\n",
       " 'dog',\n",
       " 'e83',\n",
       " 'dog',\n",
       " 'cat',\n",
       " 'dog',\n",
       " 'ea3',\n",
       " 'dog',\n",
       " 'hor',\n",
       " 'ea3',\n",
       " 'dog',\n",
       " 'e83',\n",
       " 'hor',\n",
       " 'cat',\n",
       " 'ea3',\n",
       " 'e83',\n",
       " 'dog',\n",
       " 'hor',\n",
       " 'cat',\n",
       " 'hor',\n",
       " 'cat',\n",
       " 'e83',\n",
       " 'cat',\n",
       " 'e13',\n",
       " 'dog',\n",
       " 'dog',\n",
       " 'cat',\n",
       " 'cat',\n",
       " 'cat',\n",
       " 'dog',\n",
       " 'dog',\n",
       " 'hor',\n",
       " 'hor',\n",
       " 'dog',\n",
       " 'cat',\n",
       " 'cat',\n",
       " 'e03',\n",
       " 'hor',\n",
       " 'hor',\n",
       " 'dog',\n",
       " 'cat',\n",
       " 'hor',\n",
       " 'dog',\n",
       " 'e83',\n",
       " 'e83',\n",
       " 'hor',\n",
       " 'cat',\n",
       " 'e83',\n",
       " 'hor',\n",
       " 'cat',\n",
       " 'dog',\n",
       " 'hor',\n",
       " 'dog',\n",
       " 'dog',\n",
       " 'cat',\n",
       " 'e83',\n",
       " 'dog',\n",
       " 'cat',\n",
       " 'cat',\n",
       " 'cat',\n",
       " 'e83',\n",
       " 'ea3',\n",
       " 'dog',\n",
       " 'hor',\n",
       " 'cat',\n",
       " 'hor',\n",
       " 'dog',\n",
       " 'e83',\n",
       " 'e83',\n",
       " 'dog',\n",
       " 'hor',\n",
       " 'dog',\n",
       " 'cat',\n",
       " 'dog',\n",
       " 'dog',\n",
       " 'hor',\n",
       " 'cat',\n",
       " 'ea3',\n",
       " 'hor',\n",
       " 'cat',\n",
       " 'e83',\n",
       " 'cat',\n",
       " 'dog',\n",
       " 'cat',\n",
       " 'hor',\n",
       " 'hor',\n",
       " 'dog',\n",
       " 'e83',\n",
       " 'hor',\n",
       " 'hor',\n",
       " 'ea3',\n",
       " 'dog',\n",
       " 'dog',\n",
       " 'dog',\n",
       " 'e83',\n",
       " 'hor',\n",
       " 'e83',\n",
       " 'hor',\n",
       " 'hor',\n",
       " 'e83',\n",
       " 'ea3',\n",
       " 'e83',\n",
       " 'dog',\n",
       " 'dog',\n",
       " 'cat',\n",
       " 'dog',\n",
       " 'dog',\n",
       " 'e83',\n",
       " 'e83',\n",
       " 'cat',\n",
       " 'cat',\n",
       " 'hor',\n",
       " 'cat',\n",
       " 'hor',\n",
       " 'hor',\n",
       " 'cat',\n",
       " 'cat',\n",
       " 'dog',\n",
       " 'cat',\n",
       " 'e83',\n",
       " 'hor',\n",
       " 'cat',\n",
       " 'ea3',\n",
       " 'hor',\n",
       " 'cat',\n",
       " 'ea3',\n",
       " 'e83',\n",
       " 'e13',\n",
       " 'cat',\n",
       " 'e83',\n",
       " 'cat',\n",
       " 'hor',\n",
       " 'e83',\n",
       " 'dog',\n",
       " 'ea3',\n",
       " 'hor',\n",
       " 'dog',\n",
       " 'e83',\n",
       " 'hor',\n",
       " 'e83',\n",
       " 'e13',\n",
       " 'cat',\n",
       " 'hor',\n",
       " 'cat',\n",
       " 'dog',\n",
       " 'dog',\n",
       " 'hor',\n",
       " 'dog',\n",
       " 'dog',\n",
       " 'cat',\n",
       " 'cat',\n",
       " 'ea3',\n",
       " 'dog',\n",
       " 'e83',\n",
       " 'cat',\n",
       " 'e83',\n",
       " 'dog',\n",
       " 'e83',\n",
       " 'hor',\n",
       " 'dog',\n",
       " 'hor',\n",
       " 'e83',\n",
       " 'hor',\n",
       " 'ea3',\n",
       " 'e83',\n",
       " 'e83',\n",
       " 'dog',\n",
       " 'dog',\n",
       " 'dog',\n",
       " 'ea3',\n",
       " 'cat',\n",
       " 'hor',\n",
       " 'cat',\n",
       " 'hor',\n",
       " 'ea3',\n",
       " 'dog',\n",
       " 'hor',\n",
       " 'dog',\n",
       " 'hor',\n",
       " 'cat',\n",
       " 'dog',\n",
       " 'cat',\n",
       " 'cat',\n",
       " 'e83',\n",
       " 'ea3',\n",
       " 'hor',\n",
       " 'cat']"
      ]
     },
     "execution_count": 7,
     "metadata": {},
     "output_type": "execute_result"
    }
   ],
   "source": [
    "train_labels"
   ]
  },
  {
   "cell_type": "code",
   "execution_count": 8,
   "metadata": {},
   "outputs": [
    {
     "name": "stdout",
     "output_type": "stream",
     "text": [
      "['cat', 'cat', 'e83', 'hor', 'dog', 'ea3', 'hor', 'e83', 'e83', 'dog', 'hor', 'dog', 'ea3', 'cat', 'dog', 'dog', 'hor', 'dog', 'dog', 'cat', 'dog', 'dog', 'e13', 'dog', 'hor', 'hor', 'cat', 'hor', 'dog', 'ea3', 'dog', 'cat', 'e83', 'hor', 'dog', 'cat', 'e83', 'hor', 'hor', 'ea3', 'e13', 'ea3', 'hor', 'hor', 'hor', 'cat', 'dog', 'dog', 'ea3', 'dog', 'e83', 'e83', 'cat', 'cat', 'dog', 'hor', 'cat', 'ea3', 'ea3', 'dog', 'dog', 'dog', 'hor', 'dog', 'e83', 'cat', 'hor', 'cat', 'cat', 'cat', 'hor', 'dog', 'hor', 'e83', 'dog', 'e83', 'e83', 'hor', 'dog', 'cat', 'dog', 'dog', 'e13', 'dog', 'cat', 'cat', 'hor', 'cat', 'hor', 'dog', 'ea3', 'cat', 'dog', 'dog', 'hor', 'hor', 'e83', 'cat', 'hor', 'dog', 'dog', 'dog', 'e13', 'e83', 'e83', 'ea3', 'e83', 'hor', 'hor', 'dog', 'e83', 'dog', 'hor', 'dog', 'dog', 'hor', 'e83', 'e83', 'hor', 'e83', 'ea3', 'hor', 'ea3', 'hor', 'cat', 'dog', 'e83', 'ea3', 'e83', 'hor', 'ea3', 'dog', 'hor', 'dog', 'dog', 'dog', 'e83', 'dog', 'cat', 'dog', 'ea3', 'dog', 'hor', 'ea3', 'dog', 'e83', 'hor', 'cat', 'ea3', 'e83', 'dog', 'hor', 'cat', 'hor', 'cat', 'e83', 'cat', 'e13', 'dog', 'dog', 'cat', 'cat', 'cat', 'dog', 'dog', 'hor', 'hor', 'dog', 'cat', 'cat', 'e03', 'hor', 'hor', 'dog', 'cat', 'hor', 'dog', 'e83', 'e83', 'hor', 'cat', 'e83', 'hor', 'cat', 'dog', 'hor', 'dog', 'dog', 'cat', 'e83', 'dog', 'cat', 'cat', 'cat', 'e83', 'ea3', 'dog', 'hor', 'cat', 'hor', 'dog', 'e83', 'e83', 'dog', 'hor', 'dog', 'cat', 'dog', 'dog', 'hor', 'cat', 'ea3', 'hor', 'cat', 'e83', 'cat', 'dog', 'cat', 'hor', 'hor', 'dog', 'e83', 'hor', 'hor', 'ea3', 'dog', 'dog', 'dog', 'e83', 'hor', 'e83', 'hor', 'hor', 'e83', 'ea3', 'e83', 'dog', 'dog', 'cat', 'dog', 'dog', 'e83', 'e83', 'cat', 'cat', 'hor', 'cat', 'hor', 'hor', 'cat', 'cat', 'dog', 'cat', 'e83', 'hor', 'cat', 'ea3', 'hor', 'cat', 'ea3', 'e83', 'e13', 'cat', 'e83', 'cat', 'hor', 'e83', 'dog', 'ea3', 'hor', 'dog', 'e83', 'hor', 'e83', 'e13', 'cat', 'hor', 'cat', 'dog', 'dog', 'hor', 'dog', 'dog', 'cat', 'cat', 'ea3', 'dog', 'e83', 'cat', 'e83', 'dog', 'e83', 'hor', 'dog', 'hor', 'e83', 'hor', 'ea3', 'e83', 'e83', 'dog', 'dog', 'dog', 'ea3', 'cat', 'hor', 'cat', 'hor', 'ea3', 'dog', 'hor', 'dog', 'hor', 'cat', 'dog', 'cat', 'cat', 'e83', 'ea3', 'hor', 'cat']\n",
      "[2, 2, 3, 0, 1, 3, 0, 3, 3, 1, 0, 1, 3, 2, 1, 1, 0, 1, 1, 2, 1, 1, 3, 1, 0, 0, 2, 0, 1, 3, 1, 2, 3, 0, 1, 2, 3, 0, 0, 3, 3, 3, 0, 0, 0, 2, 1, 1, 3, 1, 3, 3, 2, 2, 1, 0, 2, 3, 3, 1, 1, 1, 0, 1, 3, 2, 0, 2, 2, 2, 0, 1, 0, 3, 1, 3, 3, 0, 1, 2, 1, 1, 3, 1, 2, 2, 0, 2, 0, 1, 3, 2, 1, 1, 0, 0, 3, 2, 0, 1, 1, 1, 3, 3, 3, 3, 3, 0, 0, 1, 3, 1, 0, 1, 1, 0, 3, 3, 0, 3, 3, 0, 3, 0, 2, 1, 3, 3, 3, 0, 3, 1, 0, 1, 1, 1, 3, 1, 2, 1, 3, 1, 0, 3, 1, 3, 0, 2, 3, 3, 1, 0, 2, 0, 2, 3, 2, 3, 1, 1, 2, 2, 2, 1, 1, 0, 0, 1, 2, 2, 3, 0, 0, 1, 2, 0, 1, 3, 3, 0, 2, 3, 0, 2, 1, 0, 1, 1, 2, 3, 1, 2, 2, 2, 3, 3, 1, 0, 2, 0, 1, 3, 3, 1, 0, 1, 2, 1, 1, 0, 2, 3, 0, 2, 3, 2, 1, 2, 0, 0, 1, 3, 0, 0, 3, 1, 1, 1, 3, 0, 3, 0, 0, 3, 3, 3, 1, 1, 2, 1, 1, 3, 3, 2, 2, 0, 2, 0, 0, 2, 2, 1, 2, 3, 0, 2, 3, 0, 2, 3, 3, 3, 2, 3, 2, 0, 3, 1, 3, 0, 1, 3, 0, 3, 3, 2, 0, 2, 1, 1, 0, 1, 1, 2, 2, 3, 1, 3, 2, 3, 1, 3, 0, 1, 0, 3, 0, 3, 3, 3, 1, 1, 1, 3, 2, 0, 2, 0, 3, 1, 0, 1, 0, 2, 1, 2, 2, 3, 3, 0, 2]\n"
     ]
    }
   ],
   "source": [
    "print(train_labels)\n",
    "#train_labels= [0 if i =='hor' else 1 if i =='dog' else 2 for i in train_labels]\n",
    "train_labels= [0 if i =='hor' else 1 if i =='dog' else 2 if i == 'cat' else 3 for i in train_labels]\n",
    "print(train_labels)"
   ]
  },
  {
   "cell_type": "code",
   "execution_count": 9,
   "metadata": {},
   "outputs": [
    {
     "name": "stdout",
     "output_type": "stream",
     "text": [
      "['cat', 'hor', 'hor', 'e83', 'hor', 'dog', 'e83', 'hor', 'cat', 'hor', 'cat', 'e83', 'hor', 'e83', 'cat', 'cat', 'cat', 'hor', 'cat', 'dog', 'dog', 'hor', 'cat', 'e83', 'cat', 'hor', 'ea3', 'e83', 'e83', 'cat', 'hor', 'cat', 'hor', 'hor', 'hor', 'cat', 'e83', 'dog', 'hor', 'cat', 'ea3', 'dog', 'cat', 'dog', 'cat', 'ea3', 'hor', 'cat', 'dog', 'cat', 'hor', 'ea3', 'hor', 'hor', 'e83', 'e83', 'cat', 'cat', 'hor', 'cat', 'hor', 'e83', 'cat', 'dog', 'dog', 'e83', 'e83', 'cat', 'cat', 'dog', 'e83', 'cat', 'dog', 'dog', 'dog', 'dog', 'e83', 'hor', 'ea3', 'cat', 'hor', 'cat', 'dog', 'hor', 'cat', 'e83', 'e83', 'cat', 'ea3', 'dog', 'hor', 'dog', 'dog', 'hor', 'cat', 'hor', 'dog', 'dog', 'hor', 'cat', 'hor', 'hor', 'dog', 'hor', 'dog', 'dog', 'hor', 'cat', 'hor', 'cat', 'dog', 'hor', 'dog', 'hor', 'hor', 'cat', 'dog', 'e83', 'hor', 'cat', 'cat', 'cat', 'hor', 'cat', 'cat', 'cat', 'dog', 'ea3', 'hor', 'hor', 'cat', 'ea3', 'dog', 'cat', 'dog', 'e83', 'hor', 'cat', 'cat', 'cat', 'cat', 'hor', 'hor', 'cat', 'hor', 'cat', 'cat', 'e83', 'e83', 'cat', 'e83', 'dog', 'cat', 'cat', 'hor', 'cat', 'cat', 'dog', 'hor']\n",
      "[2, 0, 0, 3, 0, 1, 3, 0, 2, 0, 2, 3, 0, 3, 2, 2, 2, 0, 2, 1, 1, 0, 2, 3, 2, 0, 3, 3, 3, 2, 0, 2, 0, 0, 0, 2, 3, 1, 0, 2, 3, 1, 2, 1, 2, 3, 0, 2, 1, 2, 0, 3, 0, 0, 3, 3, 2, 2, 0, 2, 0, 3, 2, 1, 1, 3, 3, 2, 2, 1, 3, 2, 1, 1, 1, 1, 3, 0, 3, 2, 0, 2, 1, 0, 2, 3, 3, 2, 3, 1, 0, 1, 1, 0, 2, 0, 1, 1, 0, 2, 0, 0, 1, 0, 1, 1, 0, 2, 0, 2, 1, 0, 1, 0, 0, 2, 1, 3, 0, 2, 2, 2, 0, 2, 2, 2, 1, 3, 0, 0, 2, 3, 1, 2, 1, 3, 0, 2, 2, 2, 2, 0, 0, 2, 0, 2, 2, 3, 3, 2, 3, 1, 2, 2, 0, 2, 2, 1, 0]\n"
     ]
    }
   ],
   "source": [
    "print(test_labels)\n",
    "#train_labels= [0 if i =='hor' else 1 if i =='dog' else 2 for i in train_labels]\n",
    "test_labels= [0 if i =='hor' else 1 if i =='dog' else 2 if i == 'cat' else 3 for i in test_labels]\n",
    "print(test_labels)"
   ]
  },
  {
   "cell_type": "code",
   "execution_count": 10,
   "metadata": {},
   "outputs": [
    {
     "name": "stdout",
     "output_type": "stream",
     "text": [
      "256\n",
      "321\n",
      "159\n",
      "Original label :  1\n",
      "After conversion to categorical ( one-hot ) :  [0. 1. 0. 0.]\n",
      "Original label :  3\n",
      "After conversion to categorical ( one-hot ) :  [0. 0. 0. 1.]\n"
     ]
    }
   ],
   "source": [
    "from keras.utils import to_categorical\n",
    "\n",
    "nRows,nCols = train_images.shape[1:]\n",
    "nDims = nRows\n",
    "print(nCols)\n",
    "train_data = train_images.reshape(train_images.shape[0], nRows, nCols, 1)\n",
    "test_data = test_images.reshape(test_images.shape[0], nRows, nCols, 1)\n",
    "input_shape = (nRows, nCols, 1)\n",
    "train_data = train_data.astype('float32')\n",
    "test_data = test_data.astype('float32')\n",
    "train_data /= 255\n",
    "test_data /= 255\n",
    "print(len(train_labels))\n",
    "print(len(test_labels))\n",
    "train_labels_one_hot = to_categorical(train_labels)\n",
    "test_labels_one_hot = to_categorical(test_labels)\n",
    "print('Original label : ', train_labels[11])\n",
    "print('After conversion to categorical ( one-hot ) : ', train_labels_one_hot[11])\n",
    "print('Original label : ', test_labels[11])\n",
    "print('After conversion to categorical ( one-hot ) : ', test_labels_one_hot[11])"
   ]
  },
  {
   "cell_type": "code",
   "execution_count": 11,
   "metadata": {},
   "outputs": [],
   "source": [
    "from keras.layers import Input, Conv2D, MaxPooling2D, UpSampling2D\n",
    "from keras.models import Model\n",
    "from keras import backend as K\n",
    "import numpy as np\n",
    "import matplotlib.pyplot as plt\n",
    "import pickle"
   ]
  },
  {
   "cell_type": "code",
   "execution_count": 15,
   "metadata": {},
   "outputs": [],
   "source": [
    " #Initialising the CNN\n",
    "classifier = Sequential()\n",
    "\n",
    "# Convolution\n",
    "classifier.add(Conv2D(32, (3, 3), input_shape = (256,256,1), activation = 'relu'))\n",
    "\n",
    "# Pooling\n",
    "classifier.add(MaxPooling2D(pool_size = (2, 2)))\n",
    "\n",
    "# Adding a second convolutional layer\n",
    "classifier.add(Conv2D(32, (3, 3), activation = 'relu'))\n",
    "classifier.add(MaxPooling2D(pool_size = (2, 2)))\n",
    "\n",
    "# Flattening\n",
    "classifier.add(Flatten())\n",
    "\n",
    "# Full connection\n",
    "classifier.add(Dense(units = 128, activation = 'relu'))\n",
    "classifier.add(Dense(units = 4, activation = 'sigmoid'))\n",
    "\n",
    "# Compiling the CNN\n",
    "classifier.compile(optimizer = 'adam', loss = 'binary_crossentropy', metrics = ['accuracy'])\n",
    "\n"
   ]
  },
  {
   "cell_type": "code",
   "execution_count": 16,
   "metadata": {},
   "outputs": [
    {
     "name": "stdout",
     "output_type": "stream",
     "text": [
      "Model: \"sequential_2\"\n",
      "_________________________________________________________________\n",
      "Layer (type)                 Output Shape              Param #   \n",
      "=================================================================\n",
      "conv2d_3 (Conv2D)            (None, 254, 254, 32)      320       \n",
      "_________________________________________________________________\n",
      "max_pooling2d_3 (MaxPooling2 (None, 127, 127, 32)      0         \n",
      "_________________________________________________________________\n",
      "conv2d_4 (Conv2D)            (None, 125, 125, 32)      9248      \n",
      "_________________________________________________________________\n",
      "max_pooling2d_4 (MaxPooling2 (None, 62, 62, 32)        0         \n",
      "_________________________________________________________________\n",
      "flatten_2 (Flatten)          (None, 123008)            0         \n",
      "_________________________________________________________________\n",
      "dense_3 (Dense)              (None, 128)               15745152  \n",
      "_________________________________________________________________\n",
      "dense_4 (Dense)              (None, 4)                 516       \n",
      "=================================================================\n",
      "Total params: 15,755,236\n",
      "Trainable params: 15,755,236\n",
      "Non-trainable params: 0\n",
      "_________________________________________________________________\n"
     ]
    }
   ],
   "source": [
    "classifier.summary()"
   ]
  },
  {
   "cell_type": "code",
   "execution_count": 17,
   "metadata": {},
   "outputs": [
    {
     "name": "stdout",
     "output_type": "stream",
     "text": [
      "Train on 321 samples, validate on 159 samples\n",
      "Epoch 1/10\n",
      "321/321 [==============================] - 115s 357ms/step - loss: 0.6643 - accuracy: 0.7453 - val_loss: 0.5720 - val_accuracy: 0.7500\n",
      "Epoch 2/10\n",
      "321/321 [==============================] - 114s 354ms/step - loss: 0.5710 - accuracy: 0.7477 - val_loss: 0.5823 - val_accuracy: 0.7500\n",
      "Epoch 3/10\n",
      "321/321 [==============================] - 113s 353ms/step - loss: 0.5537 - accuracy: 0.7555 - val_loss: 0.5508 - val_accuracy: 0.7500\n",
      "Epoch 4/10\n",
      "321/321 [==============================] - 113s 353ms/step - loss: 0.5133 - accuracy: 0.7726 - val_loss: 0.5590 - val_accuracy: 0.7736\n",
      "Epoch 5/10\n",
      "321/321 [==============================] - 113s 351ms/step - loss: 0.4486 - accuracy: 0.7944 - val_loss: 0.4729 - val_accuracy: 0.7767\n",
      "Epoch 6/10\n",
      "321/321 [==============================] - 111s 346ms/step - loss: 0.3547 - accuracy: 0.8559 - val_loss: 0.5759 - val_accuracy: 0.7531\n",
      "Epoch 7/10\n",
      "321/321 [==============================] - 111s 344ms/step - loss: 0.2563 - accuracy: 0.9128 - val_loss: 0.6276 - val_accuracy: 0.7877\n",
      "Epoch 8/10\n",
      "321/321 [==============================] - 111s 345ms/step - loss: 0.1849 - accuracy: 0.9385 - val_loss: 0.6438 - val_accuracy: 0.7862\n",
      "Epoch 9/10\n",
      "321/321 [==============================] - 111s 346ms/step - loss: 0.1077 - accuracy: 0.9673 - val_loss: 1.0480 - val_accuracy: 0.7626\n",
      "Epoch 10/10\n",
      "321/321 [==============================] - 111s 346ms/step - loss: 0.0683 - accuracy: 0.9798 - val_loss: 1.0733 - val_accuracy: 0.7799\n"
     ]
    }
   ],
   "source": [
    "history =classifier.fit(train_data,train_labels_one_hot,batch_size=1,epochs=10,verbose=1,validation_data=(test_data, test_labels_one_hot))"
   ]
  },
  {
   "cell_type": "code",
   "execution_count": 28,
   "metadata": {},
   "outputs": [],
   "source": [
    "img='/home/apiiit-rkv/Desktop/h1.jpg'"
   ]
  },
  {
   "cell_type": "code",
   "execution_count": 35,
   "metadata": {},
   "outputs": [],
   "source": [
    "imgs0 = np.empty((256, 256), int)\n",
    "img = plt.imread('/home/apiiit-rkv/Desktop/hd2.jpg')\n",
    "img  = np.resize(img, (256, 256))\n",
    "#imgs0=img\n",
    "#print(imgs0.shape)\n",
    "#imgs0 = np.reshape(imgs0, [ 1, 256, 256])\n",
    "#print(imgs0.shape)\n",
    "#imgs0.shape[0]\n",
    "fin = img.reshape(1, 256, 256, 1)"
   ]
  },
  {
   "cell_type": "code",
   "execution_count": 36,
   "metadata": {},
   "outputs": [],
   "source": [
    "prediction=classifier.predict(fin,batch_size=None,steps=1)"
   ]
  },
  {
   "cell_type": "code",
   "execution_count": 37,
   "metadata": {},
   "outputs": [
    {
     "data": {
      "text/plain": [
       "array([[0., 0., 0., 1.]], dtype=float32)"
      ]
     },
     "execution_count": 37,
     "metadata": {},
     "output_type": "execute_result"
    }
   ],
   "source": [
    "prediction"
   ]
  },
  {
   "cell_type": "code",
   "execution_count": null,
   "metadata": {},
   "outputs": [],
   "source": []
  }
 ],
 "metadata": {
  "kernelspec": {
   "display_name": "Python 3",
   "language": "python",
   "name": "python3"
  },
  "language_info": {
   "codemirror_mode": {
    "name": "ipython",
    "version": 3
   },
   "file_extension": ".py",
   "mimetype": "text/x-python",
   "name": "python",
   "nbconvert_exporter": "python",
   "pygments_lexer": "ipython3",
   "version": "3.6.9"
  }
 },
 "nbformat": 4,
 "nbformat_minor": 2
}
